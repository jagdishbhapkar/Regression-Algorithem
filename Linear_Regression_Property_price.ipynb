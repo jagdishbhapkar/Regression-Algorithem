{
 "cells": [
  {
   "cell_type": "code",
   "execution_count": null,
   "id": "11ecea24",
   "metadata": {},
   "outputs": [],
   "source": [
    "## it is supervoised machine learning algorithem\n",
    "# it is linear regression algorithem \n",
    "#This is a linear regressive model based project where I have tried to predict prices of \n",
    "#apartment based on various features which would have impact on price of house \n",
    "#$#.The aim of project is to help customers to invest properly in retail investment \n",
    "#domain.\n",
    "#In property price almost 10000,81 columns\n",
    "## in propert price x feachueess is  pool area ,property shape,zoinig_class,Building_class,sales_condition and etc2\n",
    "## and here target variable is sales+price\n",
    "## then check the null values "
   ]
  },
  {
   "cell_type": "code",
   "execution_count": 1,
   "id": "e567c655",
   "metadata": {},
   "outputs": [],
   "source": [
    "import pandas as pd"
   ]
  },
  {
   "cell_type": "code",
   "execution_count": 2,
   "id": "de4e15a7",
   "metadata": {},
   "outputs": [],
   "source": [
    "pa=pd.read_csv(r\"F:\\PGA22\\pandas_Dataset\\Property_Price_Train.csv\")"
   ]
  },
  {
   "cell_type": "code",
   "execution_count": 3,
   "id": "2227b67e",
   "metadata": {},
   "outputs": [
    {
     "data": {
      "text/plain": [
       "(1459, 81)"
      ]
     },
     "execution_count": 3,
     "metadata": {},
     "output_type": "execute_result"
    }
   ],
   "source": [
    "pa.shape"
   ]
  },
  {
   "cell_type": "code",
   "execution_count": 4,
   "id": "773f1491",
   "metadata": {},
   "outputs": [
    {
     "data": {
      "text/html": [
       "<div>\n",
       "<style scoped>\n",
       "    .dataframe tbody tr th:only-of-type {\n",
       "        vertical-align: middle;\n",
       "    }\n",
       "\n",
       "    .dataframe tbody tr th {\n",
       "        vertical-align: top;\n",
       "    }\n",
       "\n",
       "    .dataframe thead th {\n",
       "        text-align: right;\n",
       "    }\n",
       "</style>\n",
       "<table border=\"1\" class=\"dataframe\">\n",
       "  <thead>\n",
       "    <tr style=\"text-align: right;\">\n",
       "      <th></th>\n",
       "      <th>Id</th>\n",
       "      <th>Building_Class</th>\n",
       "      <th>Zoning_Class</th>\n",
       "      <th>Lot_Extent</th>\n",
       "      <th>Lot_Size</th>\n",
       "      <th>Road_Type</th>\n",
       "      <th>Lane_Type</th>\n",
       "      <th>Property_Shape</th>\n",
       "      <th>Land_Outline</th>\n",
       "      <th>Utility_Type</th>\n",
       "      <th>...</th>\n",
       "      <th>Pool_Area</th>\n",
       "      <th>Pool_Quality</th>\n",
       "      <th>Fence_Quality</th>\n",
       "      <th>Miscellaneous_Feature</th>\n",
       "      <th>Miscellaneous_Value</th>\n",
       "      <th>Month_Sold</th>\n",
       "      <th>Year_Sold</th>\n",
       "      <th>Sale_Type</th>\n",
       "      <th>Sale_Condition</th>\n",
       "      <th>Sale_Price</th>\n",
       "    </tr>\n",
       "  </thead>\n",
       "  <tbody>\n",
       "    <tr>\n",
       "      <th>0</th>\n",
       "      <td>1</td>\n",
       "      <td>60</td>\n",
       "      <td>RLD</td>\n",
       "      <td>65.0</td>\n",
       "      <td>8450</td>\n",
       "      <td>Paved</td>\n",
       "      <td>NaN</td>\n",
       "      <td>Reg</td>\n",
       "      <td>Lvl</td>\n",
       "      <td>AllPub</td>\n",
       "      <td>...</td>\n",
       "      <td>0</td>\n",
       "      <td>NaN</td>\n",
       "      <td>NaN</td>\n",
       "      <td>NaN</td>\n",
       "      <td>0</td>\n",
       "      <td>2</td>\n",
       "      <td>2008</td>\n",
       "      <td>WD</td>\n",
       "      <td>Normal</td>\n",
       "      <td>208500</td>\n",
       "    </tr>\n",
       "    <tr>\n",
       "      <th>1</th>\n",
       "      <td>2</td>\n",
       "      <td>20</td>\n",
       "      <td>RLD</td>\n",
       "      <td>80.0</td>\n",
       "      <td>9600</td>\n",
       "      <td>Paved</td>\n",
       "      <td>NaN</td>\n",
       "      <td>Reg</td>\n",
       "      <td>Lvl</td>\n",
       "      <td>AllPub</td>\n",
       "      <td>...</td>\n",
       "      <td>0</td>\n",
       "      <td>NaN</td>\n",
       "      <td>NaN</td>\n",
       "      <td>NaN</td>\n",
       "      <td>0</td>\n",
       "      <td>5</td>\n",
       "      <td>2007</td>\n",
       "      <td>WD</td>\n",
       "      <td>Normal</td>\n",
       "      <td>181500</td>\n",
       "    </tr>\n",
       "    <tr>\n",
       "      <th>2</th>\n",
       "      <td>3</td>\n",
       "      <td>60</td>\n",
       "      <td>RLD</td>\n",
       "      <td>68.0</td>\n",
       "      <td>11250</td>\n",
       "      <td>Paved</td>\n",
       "      <td>NaN</td>\n",
       "      <td>IR1</td>\n",
       "      <td>Lvl</td>\n",
       "      <td>AllPub</td>\n",
       "      <td>...</td>\n",
       "      <td>0</td>\n",
       "      <td>NaN</td>\n",
       "      <td>NaN</td>\n",
       "      <td>NaN</td>\n",
       "      <td>0</td>\n",
       "      <td>9</td>\n",
       "      <td>2008</td>\n",
       "      <td>WD</td>\n",
       "      <td>Normal</td>\n",
       "      <td>223500</td>\n",
       "    </tr>\n",
       "    <tr>\n",
       "      <th>3</th>\n",
       "      <td>4</td>\n",
       "      <td>70</td>\n",
       "      <td>RLD</td>\n",
       "      <td>60.0</td>\n",
       "      <td>9550</td>\n",
       "      <td>Paved</td>\n",
       "      <td>NaN</td>\n",
       "      <td>IR1</td>\n",
       "      <td>Lvl</td>\n",
       "      <td>AllPub</td>\n",
       "      <td>...</td>\n",
       "      <td>0</td>\n",
       "      <td>NaN</td>\n",
       "      <td>NaN</td>\n",
       "      <td>NaN</td>\n",
       "      <td>0</td>\n",
       "      <td>2</td>\n",
       "      <td>2006</td>\n",
       "      <td>WD</td>\n",
       "      <td>Abnorml</td>\n",
       "      <td>140000</td>\n",
       "    </tr>\n",
       "    <tr>\n",
       "      <th>4</th>\n",
       "      <td>5</td>\n",
       "      <td>60</td>\n",
       "      <td>RLD</td>\n",
       "      <td>84.0</td>\n",
       "      <td>14260</td>\n",
       "      <td>Paved</td>\n",
       "      <td>NaN</td>\n",
       "      <td>IR1</td>\n",
       "      <td>Lvl</td>\n",
       "      <td>AllPub</td>\n",
       "      <td>...</td>\n",
       "      <td>0</td>\n",
       "      <td>NaN</td>\n",
       "      <td>NaN</td>\n",
       "      <td>NaN</td>\n",
       "      <td>0</td>\n",
       "      <td>12</td>\n",
       "      <td>2008</td>\n",
       "      <td>WD</td>\n",
       "      <td>Normal</td>\n",
       "      <td>250000</td>\n",
       "    </tr>\n",
       "  </tbody>\n",
       "</table>\n",
       "<p>5 rows × 81 columns</p>\n",
       "</div>"
      ],
      "text/plain": [
       "   Id  Building_Class Zoning_Class  Lot_Extent  Lot_Size Road_Type Lane_Type  \\\n",
       "0   1              60          RLD        65.0      8450     Paved       NaN   \n",
       "1   2              20          RLD        80.0      9600     Paved       NaN   \n",
       "2   3              60          RLD        68.0     11250     Paved       NaN   \n",
       "3   4              70          RLD        60.0      9550     Paved       NaN   \n",
       "4   5              60          RLD        84.0     14260     Paved       NaN   \n",
       "\n",
       "  Property_Shape Land_Outline Utility_Type  ... Pool_Area Pool_Quality  \\\n",
       "0            Reg          Lvl       AllPub  ...         0          NaN   \n",
       "1            Reg          Lvl       AllPub  ...         0          NaN   \n",
       "2            IR1          Lvl       AllPub  ...         0          NaN   \n",
       "3            IR1          Lvl       AllPub  ...         0          NaN   \n",
       "4            IR1          Lvl       AllPub  ...         0          NaN   \n",
       "\n",
       "  Fence_Quality Miscellaneous_Feature Miscellaneous_Value Month_Sold  \\\n",
       "0           NaN                   NaN                   0          2   \n",
       "1           NaN                   NaN                   0          5   \n",
       "2           NaN                   NaN                   0          9   \n",
       "3           NaN                   NaN                   0          2   \n",
       "4           NaN                   NaN                   0         12   \n",
       "\n",
       "  Year_Sold  Sale_Type  Sale_Condition  Sale_Price  \n",
       "0      2008         WD          Normal      208500  \n",
       "1      2007         WD          Normal      181500  \n",
       "2      2008         WD          Normal      223500  \n",
       "3      2006         WD         Abnorml      140000  \n",
       "4      2008         WD          Normal      250000  \n",
       "\n",
       "[5 rows x 81 columns]"
      ]
     },
     "execution_count": 4,
     "metadata": {},
     "output_type": "execute_result"
    }
   ],
   "source": [
    "pa.head(5)"
   ]
  },
  {
   "cell_type": "code",
   "execution_count": 5,
   "id": "b08ad886",
   "metadata": {},
   "outputs": [
    {
     "data": {
      "text/html": [
       "<div>\n",
       "<style scoped>\n",
       "    .dataframe tbody tr th:only-of-type {\n",
       "        vertical-align: middle;\n",
       "    }\n",
       "\n",
       "    .dataframe tbody tr th {\n",
       "        vertical-align: top;\n",
       "    }\n",
       "\n",
       "    .dataframe thead th {\n",
       "        text-align: right;\n",
       "    }\n",
       "</style>\n",
       "<table border=\"1\" class=\"dataframe\">\n",
       "  <thead>\n",
       "    <tr style=\"text-align: right;\">\n",
       "      <th></th>\n",
       "      <th>Id</th>\n",
       "      <th>Building_Class</th>\n",
       "      <th>Zoning_Class</th>\n",
       "      <th>Lot_Extent</th>\n",
       "      <th>Lot_Size</th>\n",
       "      <th>Road_Type</th>\n",
       "      <th>Lane_Type</th>\n",
       "      <th>Property_Shape</th>\n",
       "      <th>Land_Outline</th>\n",
       "      <th>Utility_Type</th>\n",
       "      <th>...</th>\n",
       "      <th>Pool_Area</th>\n",
       "      <th>Pool_Quality</th>\n",
       "      <th>Fence_Quality</th>\n",
       "      <th>Miscellaneous_Feature</th>\n",
       "      <th>Miscellaneous_Value</th>\n",
       "      <th>Month_Sold</th>\n",
       "      <th>Year_Sold</th>\n",
       "      <th>Sale_Type</th>\n",
       "      <th>Sale_Condition</th>\n",
       "      <th>Sale_Price</th>\n",
       "    </tr>\n",
       "  </thead>\n",
       "  <tbody>\n",
       "    <tr>\n",
       "      <th>1454</th>\n",
       "      <td>1455</td>\n",
       "      <td>20</td>\n",
       "      <td>FVR</td>\n",
       "      <td>62.0</td>\n",
       "      <td>7500</td>\n",
       "      <td>Paved</td>\n",
       "      <td>Paved</td>\n",
       "      <td>Reg</td>\n",
       "      <td>Lvl</td>\n",
       "      <td>AllPub</td>\n",
       "      <td>...</td>\n",
       "      <td>0</td>\n",
       "      <td>NaN</td>\n",
       "      <td>NaN</td>\n",
       "      <td>NaN</td>\n",
       "      <td>0</td>\n",
       "      <td>10</td>\n",
       "      <td>2009</td>\n",
       "      <td>WD</td>\n",
       "      <td>Normal</td>\n",
       "      <td>185000</td>\n",
       "    </tr>\n",
       "    <tr>\n",
       "      <th>1455</th>\n",
       "      <td>1456</td>\n",
       "      <td>60</td>\n",
       "      <td>RLD</td>\n",
       "      <td>62.0</td>\n",
       "      <td>7917</td>\n",
       "      <td>Paved</td>\n",
       "      <td>NaN</td>\n",
       "      <td>Reg</td>\n",
       "      <td>Lvl</td>\n",
       "      <td>AllPub</td>\n",
       "      <td>...</td>\n",
       "      <td>0</td>\n",
       "      <td>NaN</td>\n",
       "      <td>NaN</td>\n",
       "      <td>NaN</td>\n",
       "      <td>0</td>\n",
       "      <td>8</td>\n",
       "      <td>2007</td>\n",
       "      <td>WD</td>\n",
       "      <td>Normal</td>\n",
       "      <td>175000</td>\n",
       "    </tr>\n",
       "    <tr>\n",
       "      <th>1456</th>\n",
       "      <td>1457</td>\n",
       "      <td>20</td>\n",
       "      <td>RLD</td>\n",
       "      <td>85.0</td>\n",
       "      <td>13175</td>\n",
       "      <td>Paved</td>\n",
       "      <td>NaN</td>\n",
       "      <td>Reg</td>\n",
       "      <td>Lvl</td>\n",
       "      <td>AllPub</td>\n",
       "      <td>...</td>\n",
       "      <td>0</td>\n",
       "      <td>NaN</td>\n",
       "      <td>MnPrv</td>\n",
       "      <td>NaN</td>\n",
       "      <td>0</td>\n",
       "      <td>2</td>\n",
       "      <td>2010</td>\n",
       "      <td>WD</td>\n",
       "      <td>Normal</td>\n",
       "      <td>210000</td>\n",
       "    </tr>\n",
       "    <tr>\n",
       "      <th>1457</th>\n",
       "      <td>1458</td>\n",
       "      <td>70</td>\n",
       "      <td>RLD</td>\n",
       "      <td>66.0</td>\n",
       "      <td>9042</td>\n",
       "      <td>Paved</td>\n",
       "      <td>NaN</td>\n",
       "      <td>Reg</td>\n",
       "      <td>Lvl</td>\n",
       "      <td>AllPub</td>\n",
       "      <td>...</td>\n",
       "      <td>0</td>\n",
       "      <td>NaN</td>\n",
       "      <td>GdPrv</td>\n",
       "      <td>Shed</td>\n",
       "      <td>2500</td>\n",
       "      <td>5</td>\n",
       "      <td>2010</td>\n",
       "      <td>WD</td>\n",
       "      <td>Normal</td>\n",
       "      <td>266500</td>\n",
       "    </tr>\n",
       "    <tr>\n",
       "      <th>1458</th>\n",
       "      <td>1459</td>\n",
       "      <td>20</td>\n",
       "      <td>RLD</td>\n",
       "      <td>68.0</td>\n",
       "      <td>9717</td>\n",
       "      <td>Paved</td>\n",
       "      <td>NaN</td>\n",
       "      <td>Reg</td>\n",
       "      <td>Lvl</td>\n",
       "      <td>AllPub</td>\n",
       "      <td>...</td>\n",
       "      <td>0</td>\n",
       "      <td>NaN</td>\n",
       "      <td>NaN</td>\n",
       "      <td>NaN</td>\n",
       "      <td>0</td>\n",
       "      <td>4</td>\n",
       "      <td>2010</td>\n",
       "      <td>WD</td>\n",
       "      <td>Normal</td>\n",
       "      <td>142125</td>\n",
       "    </tr>\n",
       "  </tbody>\n",
       "</table>\n",
       "<p>5 rows × 81 columns</p>\n",
       "</div>"
      ],
      "text/plain": [
       "        Id  Building_Class Zoning_Class  Lot_Extent  Lot_Size Road_Type  \\\n",
       "1454  1455              20          FVR        62.0      7500     Paved   \n",
       "1455  1456              60          RLD        62.0      7917     Paved   \n",
       "1456  1457              20          RLD        85.0     13175     Paved   \n",
       "1457  1458              70          RLD        66.0      9042     Paved   \n",
       "1458  1459              20          RLD        68.0      9717     Paved   \n",
       "\n",
       "     Lane_Type Property_Shape Land_Outline Utility_Type  ... Pool_Area  \\\n",
       "1454     Paved            Reg          Lvl       AllPub  ...         0   \n",
       "1455       NaN            Reg          Lvl       AllPub  ...         0   \n",
       "1456       NaN            Reg          Lvl       AllPub  ...         0   \n",
       "1457       NaN            Reg          Lvl       AllPub  ...         0   \n",
       "1458       NaN            Reg          Lvl       AllPub  ...         0   \n",
       "\n",
       "     Pool_Quality Fence_Quality Miscellaneous_Feature Miscellaneous_Value  \\\n",
       "1454          NaN           NaN                   NaN                   0   \n",
       "1455          NaN           NaN                   NaN                   0   \n",
       "1456          NaN         MnPrv                   NaN                   0   \n",
       "1457          NaN         GdPrv                  Shed                2500   \n",
       "1458          NaN           NaN                   NaN                   0   \n",
       "\n",
       "     Month_Sold Year_Sold  Sale_Type  Sale_Condition  Sale_Price  \n",
       "1454         10      2009         WD          Normal      185000  \n",
       "1455          8      2007         WD          Normal      175000  \n",
       "1456          2      2010         WD          Normal      210000  \n",
       "1457          5      2010         WD          Normal      266500  \n",
       "1458          4      2010         WD          Normal      142125  \n",
       "\n",
       "[5 rows x 81 columns]"
      ]
     },
     "execution_count": 5,
     "metadata": {},
     "output_type": "execute_result"
    }
   ],
   "source": [
    "pa.tail(5)"
   ]
  },
  {
   "cell_type": "code",
   "execution_count": 6,
   "id": "f3172a20",
   "metadata": {},
   "outputs": [
    {
     "data": {
      "text/plain": [
       "Index(['Id', 'Building_Class', 'Zoning_Class', 'Lot_Extent', 'Lot_Size',\n",
       "       'Road_Type', 'Lane_Type', 'Property_Shape', 'Land_Outline',\n",
       "       'Utility_Type', 'Lot_Configuration', 'Property_Slope', 'Neighborhood',\n",
       "       'Condition1', 'Condition2', 'House_Type', 'House_Design',\n",
       "       'Overall_Material', 'House_Condition', 'Construction_Year',\n",
       "       'Remodel_Year', 'Roof_Design', 'Roof_Quality', 'Exterior1st',\n",
       "       'Exterior2nd', 'Brick_Veneer_Type', 'Brick_Veneer_Area',\n",
       "       'Exterior_Material', 'Exterior_Condition', 'Foundation_Type',\n",
       "       'Basement_Height', 'Basement_Condition', 'Exposure_Level',\n",
       "       'BsmtFinType1', 'BsmtFinSF1', 'BsmtFinType2', 'BsmtFinSF2', 'BsmtUnfSF',\n",
       "       'Total_Basement_Area', 'Heating_Type', 'Heating_Quality',\n",
       "       'Air_Conditioning', 'Electrical_System', 'First_Floor_Area',\n",
       "       'Second_Floor_Area', 'LowQualFinSF', 'Grade_Living_Area',\n",
       "       'Underground_Full_Bathroom', 'Underground_Half_Bathroom',\n",
       "       'Full_Bathroom_Above_Grade', 'Half_Bathroom_Above_Grade',\n",
       "       'Bedroom_Above_Grade', 'Kitchen_Above_Grade', 'Kitchen_Quality',\n",
       "       'Rooms_Above_Grade', 'Functional_Rate', 'Fireplaces',\n",
       "       'Fireplace_Quality', 'Garage', 'Garage_Built_Year',\n",
       "       'Garage_Finish_Year', 'Garage_Size', 'Garage_Area', 'Garage_Quality',\n",
       "       'Garage_Condition', 'Pavedd_Drive', 'W_Deck_Area', 'Open_Lobby_Area',\n",
       "       'Enclosed_Lobby_Area', 'Three_Season_Lobby_Area', 'Screen_Lobby_Area',\n",
       "       'Pool_Area', 'Pool_Quality', 'Fence_Quality', 'Miscellaneous_Feature',\n",
       "       'Miscellaneous_Value', 'Month_Sold', 'Year_Sold', 'Sale_Type',\n",
       "       'Sale_Condition', 'Sale_Price'],\n",
       "      dtype='object')"
      ]
     },
     "execution_count": 6,
     "metadata": {},
     "output_type": "execute_result"
    }
   ],
   "source": [
    "pa.columns"
   ]
  },
  {
   "cell_type": "code",
   "execution_count": 7,
   "id": "62b34219",
   "metadata": {},
   "outputs": [
    {
     "data": {
      "text/plain": [
       "Id                  0\n",
       "Building_Class      0\n",
       "Zoning_Class        0\n",
       "Lot_Extent        259\n",
       "Lot_Size            0\n",
       "                 ... \n",
       "Month_Sold          0\n",
       "Year_Sold           0\n",
       "Sale_Type           0\n",
       "Sale_Condition      0\n",
       "Sale_Price          0\n",
       "Length: 81, dtype: int64"
      ]
     },
     "execution_count": 7,
     "metadata": {},
     "output_type": "execute_result"
    }
   ],
   "source": [
    "pa.isnull().sum()"
   ]
  },
  {
   "cell_type": "code",
   "execution_count": 8,
   "id": "77244a60",
   "metadata": {},
   "outputs": [],
   "source": [
    "pd.set_option('display.max_columns',100)\n",
    "pd.set_option('display.max_rows',100)"
   ]
  },
  {
   "cell_type": "code",
   "execution_count": 9,
   "id": "c950893b",
   "metadata": {},
   "outputs": [],
   "source": [
    "# lets tried to find out columns which have huge percentage of nulls"
   ]
  },
  {
   "cell_type": "code",
   "execution_count": 10,
   "id": "a5a25ed9",
   "metadata": {},
   "outputs": [
    {
     "data": {
      "text/plain": [
       "Index(['Lane_Type', 'Fireplace_Quality', 'Pool_Quality', 'Fence_Quality',\n",
       "       'Miscellaneous_Feature'],\n",
       "      dtype='object')"
      ]
     },
     "execution_count": 10,
     "metadata": {},
     "output_type": "execute_result"
    }
   ],
   "source": [
    "pa.columns[pa.isnull().sum()*100/pa.shape[0]>40]"
   ]
  },
  {
   "cell_type": "code",
   "execution_count": 11,
   "id": "370f5967",
   "metadata": {},
   "outputs": [],
   "source": [
    "pa=pa.drop(['Lane_Type', 'Fireplace_Quality', 'Pool_Quality', 'Fence_Quality',\n",
    "       'Miscellaneous_Feature'],axis=1)"
   ]
  },
  {
   "cell_type": "code",
   "execution_count": 12,
   "id": "18f835d3",
   "metadata": {},
   "outputs": [
    {
     "data": {
      "text/plain": [
       "(1459, 76)"
      ]
     },
     "execution_count": 12,
     "metadata": {},
     "output_type": "execute_result"
    }
   ],
   "source": [
    "pa.shape"
   ]
  },
  {
   "cell_type": "code",
   "execution_count": 13,
   "id": "01677f93",
   "metadata": {},
   "outputs": [
    {
     "data": {
      "text/plain": [
       "Id                             0\n",
       "Building_Class                 0\n",
       "Zoning_Class                   0\n",
       "Lot_Extent                   259\n",
       "Lot_Size                       0\n",
       "Road_Type                      0\n",
       "Property_Shape                 0\n",
       "Land_Outline                   0\n",
       "Utility_Type                   0\n",
       "Lot_Configuration              0\n",
       "Property_Slope                 0\n",
       "Neighborhood                   0\n",
       "Condition1                     0\n",
       "Condition2                     0\n",
       "House_Type                     0\n",
       "House_Design                   0\n",
       "Overall_Material               0\n",
       "House_Condition                0\n",
       "Construction_Year              0\n",
       "Remodel_Year                   0\n",
       "Roof_Design                    0\n",
       "Roof_Quality                   0\n",
       "Exterior1st                    0\n",
       "Exterior2nd                    0\n",
       "Brick_Veneer_Type              8\n",
       "Brick_Veneer_Area              8\n",
       "Exterior_Material              0\n",
       "Exterior_Condition             0\n",
       "Foundation_Type                0\n",
       "Basement_Height               37\n",
       "Basement_Condition            37\n",
       "Exposure_Level                38\n",
       "BsmtFinType1                  37\n",
       "BsmtFinSF1                     0\n",
       "BsmtFinType2                  38\n",
       "BsmtFinSF2                     0\n",
       "BsmtUnfSF                      0\n",
       "Total_Basement_Area            0\n",
       "Heating_Type                   0\n",
       "Heating_Quality                0\n",
       "Air_Conditioning               0\n",
       "Electrical_System              1\n",
       "First_Floor_Area               0\n",
       "Second_Floor_Area              0\n",
       "LowQualFinSF                   0\n",
       "Grade_Living_Area              0\n",
       "Underground_Full_Bathroom      0\n",
       "Underground_Half_Bathroom      0\n",
       "Full_Bathroom_Above_Grade      0\n",
       "Half_Bathroom_Above_Grade      0\n",
       "Bedroom_Above_Grade            0\n",
       "Kitchen_Above_Grade            0\n",
       "Kitchen_Quality                0\n",
       "Rooms_Above_Grade              0\n",
       "Functional_Rate                0\n",
       "Fireplaces                     0\n",
       "Garage                        81\n",
       "Garage_Built_Year             81\n",
       "Garage_Finish_Year            81\n",
       "Garage_Size                    0\n",
       "Garage_Area                    0\n",
       "Garage_Quality                81\n",
       "Garage_Condition              81\n",
       "Pavedd_Drive                   0\n",
       "W_Deck_Area                    0\n",
       "Open_Lobby_Area                0\n",
       "Enclosed_Lobby_Area            0\n",
       "Three_Season_Lobby_Area        0\n",
       "Screen_Lobby_Area              0\n",
       "Pool_Area                      0\n",
       "Miscellaneous_Value            0\n",
       "Month_Sold                     0\n",
       "Year_Sold                      0\n",
       "Sale_Type                      0\n",
       "Sale_Condition                 0\n",
       "Sale_Price                     0\n",
       "dtype: int64"
      ]
     },
     "execution_count": 13,
     "metadata": {},
     "output_type": "execute_result"
    }
   ],
   "source": [
    "pa.isnull().sum()"
   ]
  },
  {
   "cell_type": "code",
   "execution_count": 14,
   "id": "e7a00a91",
   "metadata": {},
   "outputs": [],
   "source": [
    "pa.Basement_Height.fillna('TA' , inplace = True)\n",
    "pa.Exposure_Level.fillna('No' , inplace = True)\n",
    "pa.BsmtFinType1.fillna('Unf' , inplace = True)\n",
    "pa.BsmtFinType2.fillna('Unf' , inplace = True)\n",
    "pa.Electrical_System.fillna('SBrkr' , inplace = True)\n",
    "pa.Garage.fillna('Attchd' , inplace = True)\n",
    "pa.Garage_Finish_Year.fillna('Unf' , inplace = True)\n",
    "pa.Garage_Quality.fillna('TA' , inplace = True)\n",
    "pa.Garage_Condition.value_counts()\n",
    "pa.Basement_Condition.fillna('TA' , inplace = True)"
   ]
  },
  {
   "cell_type": "code",
   "execution_count": 15,
   "id": "27751afb",
   "metadata": {},
   "outputs": [],
   "source": [
    "pa.Lot_Extent=pa.Lot_Extent.fillna(pa.Lot_Extent.mean())"
   ]
  },
  {
   "cell_type": "code",
   "execution_count": 16,
   "id": "007c2853",
   "metadata": {},
   "outputs": [],
   "source": [
    "pa.Brick_Veneer_Type=pa.Brick_Veneer_Type.fillna(\"None\")"
   ]
  },
  {
   "cell_type": "code",
   "execution_count": 17,
   "id": "68a72f3a",
   "metadata": {},
   "outputs": [],
   "source": [
    "pa.Brick_Veneer_Area=pa.Brick_Veneer_Area.fillna(pa.Brick_Veneer_Area.mean())"
   ]
  },
  {
   "cell_type": "code",
   "execution_count": 18,
   "id": "f0929942",
   "metadata": {},
   "outputs": [],
   "source": [
    "pa.Garage_Built_Year=pa.Garage_Built_Year.fillna(pa.Garage_Built_Year.mean())"
   ]
  },
  {
   "cell_type": "code",
   "execution_count": 19,
   "id": "5de712e3",
   "metadata": {},
   "outputs": [],
   "source": [
    "pa.Garage_Condition=pa.Garage_Condition.fillna(\"TA\")"
   ]
  },
  {
   "cell_type": "code",
   "execution_count": 20,
   "id": "e9f94cfc",
   "metadata": {},
   "outputs": [
    {
     "data": {
      "text/plain": [
       "Id                           0\n",
       "Building_Class               0\n",
       "Zoning_Class                 0\n",
       "Lot_Extent                   0\n",
       "Lot_Size                     0\n",
       "Road_Type                    0\n",
       "Property_Shape               0\n",
       "Land_Outline                 0\n",
       "Utility_Type                 0\n",
       "Lot_Configuration            0\n",
       "Property_Slope               0\n",
       "Neighborhood                 0\n",
       "Condition1                   0\n",
       "Condition2                   0\n",
       "House_Type                   0\n",
       "House_Design                 0\n",
       "Overall_Material             0\n",
       "House_Condition              0\n",
       "Construction_Year            0\n",
       "Remodel_Year                 0\n",
       "Roof_Design                  0\n",
       "Roof_Quality                 0\n",
       "Exterior1st                  0\n",
       "Exterior2nd                  0\n",
       "Brick_Veneer_Type            0\n",
       "Brick_Veneer_Area            0\n",
       "Exterior_Material            0\n",
       "Exterior_Condition           0\n",
       "Foundation_Type              0\n",
       "Basement_Height              0\n",
       "Basement_Condition           0\n",
       "Exposure_Level               0\n",
       "BsmtFinType1                 0\n",
       "BsmtFinSF1                   0\n",
       "BsmtFinType2                 0\n",
       "BsmtFinSF2                   0\n",
       "BsmtUnfSF                    0\n",
       "Total_Basement_Area          0\n",
       "Heating_Type                 0\n",
       "Heating_Quality              0\n",
       "Air_Conditioning             0\n",
       "Electrical_System            0\n",
       "First_Floor_Area             0\n",
       "Second_Floor_Area            0\n",
       "LowQualFinSF                 0\n",
       "Grade_Living_Area            0\n",
       "Underground_Full_Bathroom    0\n",
       "Underground_Half_Bathroom    0\n",
       "Full_Bathroom_Above_Grade    0\n",
       "Half_Bathroom_Above_Grade    0\n",
       "Bedroom_Above_Grade          0\n",
       "Kitchen_Above_Grade          0\n",
       "Kitchen_Quality              0\n",
       "Rooms_Above_Grade            0\n",
       "Functional_Rate              0\n",
       "Fireplaces                   0\n",
       "Garage                       0\n",
       "Garage_Built_Year            0\n",
       "Garage_Finish_Year           0\n",
       "Garage_Size                  0\n",
       "Garage_Area                  0\n",
       "Garage_Quality               0\n",
       "Garage_Condition             0\n",
       "Pavedd_Drive                 0\n",
       "W_Deck_Area                  0\n",
       "Open_Lobby_Area              0\n",
       "Enclosed_Lobby_Area          0\n",
       "Three_Season_Lobby_Area      0\n",
       "Screen_Lobby_Area            0\n",
       "Pool_Area                    0\n",
       "Miscellaneous_Value          0\n",
       "Month_Sold                   0\n",
       "Year_Sold                    0\n",
       "Sale_Type                    0\n",
       "Sale_Condition               0\n",
       "Sale_Price                   0\n",
       "dtype: int64"
      ]
     },
     "execution_count": 20,
     "metadata": {},
     "output_type": "execute_result"
    }
   ],
   "source": [
    "pa.isnull().sum()"
   ]
  },
  {
   "cell_type": "code",
   "execution_count": 21,
   "id": "bbafde73",
   "metadata": {},
   "outputs": [],
   "source": [
    "from sklearn.preprocessing import LabelEncoder\n",
    "le=LabelEncoder()\n",
    "pa[pa.select_dtypes(include=['object']).columns]=pa[pa.select_dtypes(include=['object']).columns].apply(le.fit_transform)"
   ]
  },
  {
   "cell_type": "code",
   "execution_count": 100,
   "id": "7deab041",
   "metadata": {},
   "outputs": [],
   "source": [
    "from sklearn.model_selection import train_test_split\n",
    "pa_train,pa_test=train_test_split(pa,test_size=.2,random_state=111)"
   ]
  },
  {
   "cell_type": "code",
   "execution_count": 101,
   "id": "a75e872c",
   "metadata": {},
   "outputs": [],
   "source": [
    "pa_train_x=pa_train.iloc[:,0:-1]\n",
    "pa_train_y=pa_train.iloc[:,-1]"
   ]
  },
  {
   "cell_type": "code",
   "execution_count": 102,
   "id": "de896f2a",
   "metadata": {},
   "outputs": [],
   "source": [
    "pa_test_x=pa_test.iloc[:,0:-1]\n",
    "pa_test_y=pa_test.iloc[:,-1]"
   ]
  },
  {
   "cell_type": "code",
   "execution_count": 103,
   "id": "99d80b4d",
   "metadata": {},
   "outputs": [
    {
     "name": "stdout",
     "output_type": "stream",
     "text": [
      "(1060, 75)\n",
      "(1060,)\n"
     ]
    }
   ],
   "source": [
    "print(pa_train_x.shape)\n",
    "print(pa_train_y.shape)"
   ]
  },
  {
   "cell_type": "code",
   "execution_count": 104,
   "id": "ff46b1bf",
   "metadata": {},
   "outputs": [
    {
     "name": "stdout",
     "output_type": "stream",
     "text": [
      "(266, 75)\n",
      "(266,)\n"
     ]
    }
   ],
   "source": [
    "print(pa_test_x.shape)\n",
    "print(pa_test_y.shape)"
   ]
  },
  {
   "cell_type": "code",
   "execution_count": 105,
   "id": "79a1b27a",
   "metadata": {},
   "outputs": [
    {
     "data": {
      "text/plain": [
       "LinearRegression()"
      ]
     },
     "execution_count": 105,
     "metadata": {},
     "output_type": "execute_result"
    }
   ],
   "source": [
    "from sklearn.linear_model import LinearRegression\n",
    "reg=LinearRegression()\n",
    "reg.fit(pa_train_x,pa_train_y)"
   ]
  },
  {
   "cell_type": "code",
   "execution_count": 106,
   "id": "a7357823",
   "metadata": {},
   "outputs": [
    {
     "name": "stdout",
     "output_type": "stream",
     "text": [
      "0.8906222021800692\n"
     ]
    }
   ],
   "source": [
    "rsquare=reg.score(pa_train_x,pa_train_y)\n",
    "print(rsquare)"
   ]
  },
  {
   "cell_type": "code",
   "execution_count": 107,
   "id": "0daba725",
   "metadata": {},
   "outputs": [
    {
     "name": "stdout",
     "output_type": "stream",
     "text": [
      "0.8905110458814717\n"
     ]
    }
   ],
   "source": [
    "rsquare=reg.score(pa_train_x,pa_train_y)\n",
    "N=pa_train_x.shape[0]\n",
    "K=pa_train_x.shape[1]\n",
    "adjrsquare=1-(((1-rsquare)*(N-K))/(N-K-1))\n",
    "print(adjrsquare)"
   ]
  },
  {
   "cell_type": "code",
   "execution_count": 108,
   "id": "2fe06d04",
   "metadata": {},
   "outputs": [
    {
     "data": {
      "text/plain": [
       "156303.8520809362"
      ]
     },
     "execution_count": 108,
     "metadata": {},
     "output_type": "execute_result"
    }
   ],
   "source": [
    "reg.intercept_"
   ]
  },
  {
   "cell_type": "code",
   "execution_count": 109,
   "id": "160e7df6",
   "metadata": {},
   "outputs": [
    {
     "data": {
      "text/plain": [
       "array([-1.35404964e+00, -3.02694466e+01, -5.19260044e+03,  1.29988425e+01,\n",
       "        4.46053401e-01,  2.16543350e+04, -6.10922586e+02, -3.12042622e+02,\n",
       "       -1.99873207e+04, -1.48231201e+02,  1.27644598e+03, -1.04477032e+02,\n",
       "        4.86798553e+02,  2.61763727e+02, -1.78723780e+03, -2.94952943e+00,\n",
       "        7.56688618e+03,  4.93177830e+03,  2.68448433e+02,  9.20574831e+01,\n",
       "        1.17948858e+02,  1.62608764e+03, -8.59891286e+02,  6.51039358e+02,\n",
       "        3.52135573e+03,  1.05184341e+01, -4.31380337e+03,  8.53927385e+02,\n",
       "        1.80267880e+03, -2.04039730e+03,  1.25504701e+03, -1.87105117e+03,\n",
       "       -4.52875097e+01,  1.00088007e+01,  8.26512729e+02,  9.04361637e+00,\n",
       "       -2.56851532e+00,  1.64839017e+01, -1.93158033e+02, -1.11012051e+03,\n",
       "        3.15640965e+02, -1.97435150e+02,  2.49758584e+01,  2.49850773e+01,\n",
       "       -2.60713914e+01,  2.38895443e+01,  2.37397979e+03, -8.27872905e+02,\n",
       "        1.96421291e+03, -2.98328525e+02, -2.07057758e+03, -1.44760341e+04,\n",
       "       -4.75802736e+03,  2.40715600e+02,  2.56154990e+03,  3.37764980e+03,\n",
       "       -3.96859704e+02, -7.28266691e+00, -8.27033908e+02,  6.92551480e+03,\n",
       "        4.91336286e-01, -5.97411606e+01,  8.28802189e+02, -2.40631746e+02,\n",
       "       -2.74226033e+00,  1.07805048e+01,  7.18061795e+00, -2.99066473e+00,\n",
       "        2.91296298e+01,  3.04954445e+01, -1.47679797e+00,  1.47837967e+02,\n",
       "       -4.35147074e+02,  3.60483596e+02,  2.14297114e+03])"
      ]
     },
     "execution_count": 109,
     "metadata": {},
     "output_type": "execute_result"
    }
   ],
   "source": [
    "reg.coef_"
   ]
  },
  {
   "cell_type": "code",
   "execution_count": 110,
   "id": "8fcd03e4",
   "metadata": {},
   "outputs": [],
   "source": [
    "cols_coef=pd.DataFrame({\"Columns\":pa_train_x.columns,\"coef\":reg.coef_})\n"
   ]
  },
  {
   "cell_type": "code",
   "execution_count": 111,
   "id": "11a0e5ef",
   "metadata": {},
   "outputs": [
    {
     "data": {
      "text/html": [
       "<div>\n",
       "<style scoped>\n",
       "    .dataframe tbody tr th:only-of-type {\n",
       "        vertical-align: middle;\n",
       "    }\n",
       "\n",
       "    .dataframe tbody tr th {\n",
       "        vertical-align: top;\n",
       "    }\n",
       "\n",
       "    .dataframe thead th {\n",
       "        text-align: right;\n",
       "    }\n",
       "</style>\n",
       "<table border=\"1\" class=\"dataframe\">\n",
       "  <thead>\n",
       "    <tr style=\"text-align: right;\">\n",
       "      <th></th>\n",
       "      <th>Columns</th>\n",
       "      <th>coef</th>\n",
       "    </tr>\n",
       "  </thead>\n",
       "  <tbody>\n",
       "    <tr>\n",
       "      <th>0</th>\n",
       "      <td>Id</td>\n",
       "      <td>-1.354050</td>\n",
       "    </tr>\n",
       "    <tr>\n",
       "      <th>1</th>\n",
       "      <td>Building_Class</td>\n",
       "      <td>-30.269447</td>\n",
       "    </tr>\n",
       "    <tr>\n",
       "      <th>2</th>\n",
       "      <td>Zoning_Class</td>\n",
       "      <td>-5192.600436</td>\n",
       "    </tr>\n",
       "    <tr>\n",
       "      <th>3</th>\n",
       "      <td>Lot_Extent</td>\n",
       "      <td>12.998842</td>\n",
       "    </tr>\n",
       "    <tr>\n",
       "      <th>4</th>\n",
       "      <td>Lot_Size</td>\n",
       "      <td>0.446053</td>\n",
       "    </tr>\n",
       "    <tr>\n",
       "      <th>5</th>\n",
       "      <td>Road_Type</td>\n",
       "      <td>21654.335027</td>\n",
       "    </tr>\n",
       "    <tr>\n",
       "      <th>6</th>\n",
       "      <td>Property_Shape</td>\n",
       "      <td>-610.922586</td>\n",
       "    </tr>\n",
       "    <tr>\n",
       "      <th>7</th>\n",
       "      <td>Land_Outline</td>\n",
       "      <td>-312.042622</td>\n",
       "    </tr>\n",
       "    <tr>\n",
       "      <th>8</th>\n",
       "      <td>Utility_Type</td>\n",
       "      <td>-19987.320686</td>\n",
       "    </tr>\n",
       "    <tr>\n",
       "      <th>9</th>\n",
       "      <td>Lot_Configuration</td>\n",
       "      <td>-148.231201</td>\n",
       "    </tr>\n",
       "    <tr>\n",
       "      <th>10</th>\n",
       "      <td>Property_Slope</td>\n",
       "      <td>1276.445983</td>\n",
       "    </tr>\n",
       "    <tr>\n",
       "      <th>11</th>\n",
       "      <td>Neighborhood</td>\n",
       "      <td>-104.477032</td>\n",
       "    </tr>\n",
       "    <tr>\n",
       "      <th>12</th>\n",
       "      <td>Condition1</td>\n",
       "      <td>486.798553</td>\n",
       "    </tr>\n",
       "    <tr>\n",
       "      <th>13</th>\n",
       "      <td>Condition2</td>\n",
       "      <td>261.763727</td>\n",
       "    </tr>\n",
       "    <tr>\n",
       "      <th>14</th>\n",
       "      <td>House_Type</td>\n",
       "      <td>-1787.237802</td>\n",
       "    </tr>\n",
       "    <tr>\n",
       "      <th>15</th>\n",
       "      <td>House_Design</td>\n",
       "      <td>-2.949529</td>\n",
       "    </tr>\n",
       "    <tr>\n",
       "      <th>16</th>\n",
       "      <td>Overall_Material</td>\n",
       "      <td>7566.886179</td>\n",
       "    </tr>\n",
       "    <tr>\n",
       "      <th>17</th>\n",
       "      <td>House_Condition</td>\n",
       "      <td>4931.778296</td>\n",
       "    </tr>\n",
       "    <tr>\n",
       "      <th>18</th>\n",
       "      <td>Construction_Year</td>\n",
       "      <td>268.448433</td>\n",
       "    </tr>\n",
       "    <tr>\n",
       "      <th>19</th>\n",
       "      <td>Remodel_Year</td>\n",
       "      <td>92.057483</td>\n",
       "    </tr>\n",
       "    <tr>\n",
       "      <th>20</th>\n",
       "      <td>Roof_Design</td>\n",
       "      <td>117.948858</td>\n",
       "    </tr>\n",
       "    <tr>\n",
       "      <th>21</th>\n",
       "      <td>Roof_Quality</td>\n",
       "      <td>1626.087645</td>\n",
       "    </tr>\n",
       "    <tr>\n",
       "      <th>22</th>\n",
       "      <td>Exterior1st</td>\n",
       "      <td>-859.891286</td>\n",
       "    </tr>\n",
       "    <tr>\n",
       "      <th>23</th>\n",
       "      <td>Exterior2nd</td>\n",
       "      <td>651.039358</td>\n",
       "    </tr>\n",
       "    <tr>\n",
       "      <th>24</th>\n",
       "      <td>Brick_Veneer_Type</td>\n",
       "      <td>3521.355730</td>\n",
       "    </tr>\n",
       "    <tr>\n",
       "      <th>25</th>\n",
       "      <td>Brick_Veneer_Area</td>\n",
       "      <td>10.518434</td>\n",
       "    </tr>\n",
       "    <tr>\n",
       "      <th>26</th>\n",
       "      <td>Exterior_Material</td>\n",
       "      <td>-4313.803373</td>\n",
       "    </tr>\n",
       "    <tr>\n",
       "      <th>27</th>\n",
       "      <td>Exterior_Condition</td>\n",
       "      <td>853.927385</td>\n",
       "    </tr>\n",
       "    <tr>\n",
       "      <th>28</th>\n",
       "      <td>Foundation_Type</td>\n",
       "      <td>1802.678803</td>\n",
       "    </tr>\n",
       "    <tr>\n",
       "      <th>29</th>\n",
       "      <td>Basement_Height</td>\n",
       "      <td>-2040.397300</td>\n",
       "    </tr>\n",
       "    <tr>\n",
       "      <th>30</th>\n",
       "      <td>Basement_Condition</td>\n",
       "      <td>1255.047007</td>\n",
       "    </tr>\n",
       "    <tr>\n",
       "      <th>31</th>\n",
       "      <td>Exposure_Level</td>\n",
       "      <td>-1871.051165</td>\n",
       "    </tr>\n",
       "    <tr>\n",
       "      <th>32</th>\n",
       "      <td>BsmtFinType1</td>\n",
       "      <td>-45.287510</td>\n",
       "    </tr>\n",
       "    <tr>\n",
       "      <th>33</th>\n",
       "      <td>BsmtFinSF1</td>\n",
       "      <td>10.008801</td>\n",
       "    </tr>\n",
       "    <tr>\n",
       "      <th>34</th>\n",
       "      <td>BsmtFinType2</td>\n",
       "      <td>826.512729</td>\n",
       "    </tr>\n",
       "    <tr>\n",
       "      <th>35</th>\n",
       "      <td>BsmtFinSF2</td>\n",
       "      <td>9.043616</td>\n",
       "    </tr>\n",
       "    <tr>\n",
       "      <th>36</th>\n",
       "      <td>BsmtUnfSF</td>\n",
       "      <td>-2.568515</td>\n",
       "    </tr>\n",
       "    <tr>\n",
       "      <th>37</th>\n",
       "      <td>Total_Basement_Area</td>\n",
       "      <td>16.483902</td>\n",
       "    </tr>\n",
       "    <tr>\n",
       "      <th>38</th>\n",
       "      <td>Heating_Type</td>\n",
       "      <td>-193.158033</td>\n",
       "    </tr>\n",
       "    <tr>\n",
       "      <th>39</th>\n",
       "      <td>Heating_Quality</td>\n",
       "      <td>-1110.120512</td>\n",
       "    </tr>\n",
       "    <tr>\n",
       "      <th>40</th>\n",
       "      <td>Air_Conditioning</td>\n",
       "      <td>315.640965</td>\n",
       "    </tr>\n",
       "    <tr>\n",
       "      <th>41</th>\n",
       "      <td>Electrical_System</td>\n",
       "      <td>-197.435150</td>\n",
       "    </tr>\n",
       "    <tr>\n",
       "      <th>42</th>\n",
       "      <td>First_Floor_Area</td>\n",
       "      <td>24.975858</td>\n",
       "    </tr>\n",
       "    <tr>\n",
       "      <th>43</th>\n",
       "      <td>Second_Floor_Area</td>\n",
       "      <td>24.985077</td>\n",
       "    </tr>\n",
       "    <tr>\n",
       "      <th>44</th>\n",
       "      <td>LowQualFinSF</td>\n",
       "      <td>-26.071391</td>\n",
       "    </tr>\n",
       "    <tr>\n",
       "      <th>45</th>\n",
       "      <td>Grade_Living_Area</td>\n",
       "      <td>23.889544</td>\n",
       "    </tr>\n",
       "    <tr>\n",
       "      <th>46</th>\n",
       "      <td>Underground_Full_Bathroom</td>\n",
       "      <td>2373.979791</td>\n",
       "    </tr>\n",
       "    <tr>\n",
       "      <th>47</th>\n",
       "      <td>Underground_Half_Bathroom</td>\n",
       "      <td>-827.872905</td>\n",
       "    </tr>\n",
       "    <tr>\n",
       "      <th>48</th>\n",
       "      <td>Full_Bathroom_Above_Grade</td>\n",
       "      <td>1964.212915</td>\n",
       "    </tr>\n",
       "    <tr>\n",
       "      <th>49</th>\n",
       "      <td>Half_Bathroom_Above_Grade</td>\n",
       "      <td>-298.328525</td>\n",
       "    </tr>\n",
       "    <tr>\n",
       "      <th>50</th>\n",
       "      <td>Bedroom_Above_Grade</td>\n",
       "      <td>-2070.577584</td>\n",
       "    </tr>\n",
       "    <tr>\n",
       "      <th>51</th>\n",
       "      <td>Kitchen_Above_Grade</td>\n",
       "      <td>-14476.034056</td>\n",
       "    </tr>\n",
       "    <tr>\n",
       "      <th>52</th>\n",
       "      <td>Kitchen_Quality</td>\n",
       "      <td>-4758.027365</td>\n",
       "    </tr>\n",
       "    <tr>\n",
       "      <th>53</th>\n",
       "      <td>Rooms_Above_Grade</td>\n",
       "      <td>240.715600</td>\n",
       "    </tr>\n",
       "    <tr>\n",
       "      <th>54</th>\n",
       "      <td>Functional_Rate</td>\n",
       "      <td>2561.549905</td>\n",
       "    </tr>\n",
       "    <tr>\n",
       "      <th>55</th>\n",
       "      <td>Fireplaces</td>\n",
       "      <td>3377.649801</td>\n",
       "    </tr>\n",
       "    <tr>\n",
       "      <th>56</th>\n",
       "      <td>Garage</td>\n",
       "      <td>-396.859704</td>\n",
       "    </tr>\n",
       "    <tr>\n",
       "      <th>57</th>\n",
       "      <td>Garage_Built_Year</td>\n",
       "      <td>-7.282667</td>\n",
       "    </tr>\n",
       "    <tr>\n",
       "      <th>58</th>\n",
       "      <td>Garage_Finish_Year</td>\n",
       "      <td>-827.033908</td>\n",
       "    </tr>\n",
       "    <tr>\n",
       "      <th>59</th>\n",
       "      <td>Garage_Size</td>\n",
       "      <td>6925.514798</td>\n",
       "    </tr>\n",
       "    <tr>\n",
       "      <th>60</th>\n",
       "      <td>Garage_Area</td>\n",
       "      <td>0.491336</td>\n",
       "    </tr>\n",
       "    <tr>\n",
       "      <th>61</th>\n",
       "      <td>Garage_Quality</td>\n",
       "      <td>-59.741161</td>\n",
       "    </tr>\n",
       "    <tr>\n",
       "      <th>62</th>\n",
       "      <td>Garage_Condition</td>\n",
       "      <td>828.802189</td>\n",
       "    </tr>\n",
       "    <tr>\n",
       "      <th>63</th>\n",
       "      <td>Pavedd_Drive</td>\n",
       "      <td>-240.631746</td>\n",
       "    </tr>\n",
       "    <tr>\n",
       "      <th>64</th>\n",
       "      <td>W_Deck_Area</td>\n",
       "      <td>-2.742260</td>\n",
       "    </tr>\n",
       "    <tr>\n",
       "      <th>65</th>\n",
       "      <td>Open_Lobby_Area</td>\n",
       "      <td>10.780505</td>\n",
       "    </tr>\n",
       "    <tr>\n",
       "      <th>66</th>\n",
       "      <td>Enclosed_Lobby_Area</td>\n",
       "      <td>7.180618</td>\n",
       "    </tr>\n",
       "    <tr>\n",
       "      <th>67</th>\n",
       "      <td>Three_Season_Lobby_Area</td>\n",
       "      <td>-2.990665</td>\n",
       "    </tr>\n",
       "    <tr>\n",
       "      <th>68</th>\n",
       "      <td>Screen_Lobby_Area</td>\n",
       "      <td>29.129630</td>\n",
       "    </tr>\n",
       "    <tr>\n",
       "      <th>69</th>\n",
       "      <td>Pool_Area</td>\n",
       "      <td>30.495444</td>\n",
       "    </tr>\n",
       "    <tr>\n",
       "      <th>70</th>\n",
       "      <td>Miscellaneous_Value</td>\n",
       "      <td>-1.476798</td>\n",
       "    </tr>\n",
       "    <tr>\n",
       "      <th>71</th>\n",
       "      <td>Month_Sold</td>\n",
       "      <td>147.837967</td>\n",
       "    </tr>\n",
       "    <tr>\n",
       "      <th>72</th>\n",
       "      <td>Year_Sold</td>\n",
       "      <td>-435.147074</td>\n",
       "    </tr>\n",
       "    <tr>\n",
       "      <th>73</th>\n",
       "      <td>Sale_Type</td>\n",
       "      <td>360.483596</td>\n",
       "    </tr>\n",
       "    <tr>\n",
       "      <th>74</th>\n",
       "      <td>Sale_Condition</td>\n",
       "      <td>2142.971142</td>\n",
       "    </tr>\n",
       "  </tbody>\n",
       "</table>\n",
       "</div>"
      ],
      "text/plain": [
       "                      Columns          coef\n",
       "0                          Id     -1.354050\n",
       "1              Building_Class    -30.269447\n",
       "2                Zoning_Class  -5192.600436\n",
       "3                  Lot_Extent     12.998842\n",
       "4                    Lot_Size      0.446053\n",
       "5                   Road_Type  21654.335027\n",
       "6              Property_Shape   -610.922586\n",
       "7                Land_Outline   -312.042622\n",
       "8                Utility_Type -19987.320686\n",
       "9           Lot_Configuration   -148.231201\n",
       "10             Property_Slope   1276.445983\n",
       "11               Neighborhood   -104.477032\n",
       "12                 Condition1    486.798553\n",
       "13                 Condition2    261.763727\n",
       "14                 House_Type  -1787.237802\n",
       "15               House_Design     -2.949529\n",
       "16           Overall_Material   7566.886179\n",
       "17            House_Condition   4931.778296\n",
       "18          Construction_Year    268.448433\n",
       "19               Remodel_Year     92.057483\n",
       "20                Roof_Design    117.948858\n",
       "21               Roof_Quality   1626.087645\n",
       "22                Exterior1st   -859.891286\n",
       "23                Exterior2nd    651.039358\n",
       "24          Brick_Veneer_Type   3521.355730\n",
       "25          Brick_Veneer_Area     10.518434\n",
       "26          Exterior_Material  -4313.803373\n",
       "27         Exterior_Condition    853.927385\n",
       "28            Foundation_Type   1802.678803\n",
       "29            Basement_Height  -2040.397300\n",
       "30         Basement_Condition   1255.047007\n",
       "31             Exposure_Level  -1871.051165\n",
       "32               BsmtFinType1    -45.287510\n",
       "33                 BsmtFinSF1     10.008801\n",
       "34               BsmtFinType2    826.512729\n",
       "35                 BsmtFinSF2      9.043616\n",
       "36                  BsmtUnfSF     -2.568515\n",
       "37        Total_Basement_Area     16.483902\n",
       "38               Heating_Type   -193.158033\n",
       "39            Heating_Quality  -1110.120512\n",
       "40           Air_Conditioning    315.640965\n",
       "41          Electrical_System   -197.435150\n",
       "42           First_Floor_Area     24.975858\n",
       "43          Second_Floor_Area     24.985077\n",
       "44               LowQualFinSF    -26.071391\n",
       "45          Grade_Living_Area     23.889544\n",
       "46  Underground_Full_Bathroom   2373.979791\n",
       "47  Underground_Half_Bathroom   -827.872905\n",
       "48  Full_Bathroom_Above_Grade   1964.212915\n",
       "49  Half_Bathroom_Above_Grade   -298.328525\n",
       "50        Bedroom_Above_Grade  -2070.577584\n",
       "51        Kitchen_Above_Grade -14476.034056\n",
       "52            Kitchen_Quality  -4758.027365\n",
       "53          Rooms_Above_Grade    240.715600\n",
       "54            Functional_Rate   2561.549905\n",
       "55                 Fireplaces   3377.649801\n",
       "56                     Garage   -396.859704\n",
       "57          Garage_Built_Year     -7.282667\n",
       "58         Garage_Finish_Year   -827.033908\n",
       "59                Garage_Size   6925.514798\n",
       "60                Garage_Area      0.491336\n",
       "61             Garage_Quality    -59.741161\n",
       "62           Garage_Condition    828.802189\n",
       "63               Pavedd_Drive   -240.631746\n",
       "64                W_Deck_Area     -2.742260\n",
       "65            Open_Lobby_Area     10.780505\n",
       "66        Enclosed_Lobby_Area      7.180618\n",
       "67    Three_Season_Lobby_Area     -2.990665\n",
       "68          Screen_Lobby_Area     29.129630\n",
       "69                  Pool_Area     30.495444\n",
       "70        Miscellaneous_Value     -1.476798\n",
       "71                 Month_Sold    147.837967\n",
       "72                  Year_Sold   -435.147074\n",
       "73                  Sale_Type    360.483596\n",
       "74             Sale_Condition   2142.971142"
      ]
     },
     "execution_count": 111,
     "metadata": {},
     "output_type": "execute_result"
    }
   ],
   "source": [
    "cols_coef"
   ]
  },
  {
   "cell_type": "code",
   "execution_count": 112,
   "id": "3661448c",
   "metadata": {},
   "outputs": [
    {
     "data": {
      "text/html": [
       "<div>\n",
       "<style scoped>\n",
       "    .dataframe tbody tr th:only-of-type {\n",
       "        vertical-align: middle;\n",
       "    }\n",
       "\n",
       "    .dataframe tbody tr th {\n",
       "        vertical-align: top;\n",
       "    }\n",
       "\n",
       "    .dataframe thead th {\n",
       "        text-align: right;\n",
       "    }\n",
       "</style>\n",
       "<table border=\"1\" class=\"dataframe\">\n",
       "  <thead>\n",
       "    <tr style=\"text-align: right;\">\n",
       "      <th></th>\n",
       "      <th>Columns</th>\n",
       "      <th>coef</th>\n",
       "    </tr>\n",
       "  </thead>\n",
       "  <tbody>\n",
       "    <tr>\n",
       "      <th>5</th>\n",
       "      <td>Road_Type</td>\n",
       "      <td>21654.335027</td>\n",
       "    </tr>\n",
       "    <tr>\n",
       "      <th>16</th>\n",
       "      <td>Overall_Material</td>\n",
       "      <td>7566.886179</td>\n",
       "    </tr>\n",
       "    <tr>\n",
       "      <th>59</th>\n",
       "      <td>Garage_Size</td>\n",
       "      <td>6925.514798</td>\n",
       "    </tr>\n",
       "    <tr>\n",
       "      <th>17</th>\n",
       "      <td>House_Condition</td>\n",
       "      <td>4931.778296</td>\n",
       "    </tr>\n",
       "    <tr>\n",
       "      <th>24</th>\n",
       "      <td>Brick_Veneer_Type</td>\n",
       "      <td>3521.355730</td>\n",
       "    </tr>\n",
       "    <tr>\n",
       "      <th>55</th>\n",
       "      <td>Fireplaces</td>\n",
       "      <td>3377.649801</td>\n",
       "    </tr>\n",
       "    <tr>\n",
       "      <th>54</th>\n",
       "      <td>Functional_Rate</td>\n",
       "      <td>2561.549905</td>\n",
       "    </tr>\n",
       "    <tr>\n",
       "      <th>46</th>\n",
       "      <td>Underground_Full_Bathroom</td>\n",
       "      <td>2373.979791</td>\n",
       "    </tr>\n",
       "    <tr>\n",
       "      <th>74</th>\n",
       "      <td>Sale_Condition</td>\n",
       "      <td>2142.971142</td>\n",
       "    </tr>\n",
       "    <tr>\n",
       "      <th>48</th>\n",
       "      <td>Full_Bathroom_Above_Grade</td>\n",
       "      <td>1964.212915</td>\n",
       "    </tr>\n",
       "    <tr>\n",
       "      <th>28</th>\n",
       "      <td>Foundation_Type</td>\n",
       "      <td>1802.678803</td>\n",
       "    </tr>\n",
       "    <tr>\n",
       "      <th>21</th>\n",
       "      <td>Roof_Quality</td>\n",
       "      <td>1626.087645</td>\n",
       "    </tr>\n",
       "    <tr>\n",
       "      <th>10</th>\n",
       "      <td>Property_Slope</td>\n",
       "      <td>1276.445983</td>\n",
       "    </tr>\n",
       "    <tr>\n",
       "      <th>30</th>\n",
       "      <td>Basement_Condition</td>\n",
       "      <td>1255.047007</td>\n",
       "    </tr>\n",
       "    <tr>\n",
       "      <th>27</th>\n",
       "      <td>Exterior_Condition</td>\n",
       "      <td>853.927385</td>\n",
       "    </tr>\n",
       "    <tr>\n",
       "      <th>62</th>\n",
       "      <td>Garage_Condition</td>\n",
       "      <td>828.802189</td>\n",
       "    </tr>\n",
       "    <tr>\n",
       "      <th>34</th>\n",
       "      <td>BsmtFinType2</td>\n",
       "      <td>826.512729</td>\n",
       "    </tr>\n",
       "    <tr>\n",
       "      <th>23</th>\n",
       "      <td>Exterior2nd</td>\n",
       "      <td>651.039358</td>\n",
       "    </tr>\n",
       "    <tr>\n",
       "      <th>12</th>\n",
       "      <td>Condition1</td>\n",
       "      <td>486.798553</td>\n",
       "    </tr>\n",
       "    <tr>\n",
       "      <th>73</th>\n",
       "      <td>Sale_Type</td>\n",
       "      <td>360.483596</td>\n",
       "    </tr>\n",
       "    <tr>\n",
       "      <th>40</th>\n",
       "      <td>Air_Conditioning</td>\n",
       "      <td>315.640965</td>\n",
       "    </tr>\n",
       "    <tr>\n",
       "      <th>18</th>\n",
       "      <td>Construction_Year</td>\n",
       "      <td>268.448433</td>\n",
       "    </tr>\n",
       "    <tr>\n",
       "      <th>13</th>\n",
       "      <td>Condition2</td>\n",
       "      <td>261.763727</td>\n",
       "    </tr>\n",
       "    <tr>\n",
       "      <th>53</th>\n",
       "      <td>Rooms_Above_Grade</td>\n",
       "      <td>240.715600</td>\n",
       "    </tr>\n",
       "    <tr>\n",
       "      <th>71</th>\n",
       "      <td>Month_Sold</td>\n",
       "      <td>147.837967</td>\n",
       "    </tr>\n",
       "    <tr>\n",
       "      <th>20</th>\n",
       "      <td>Roof_Design</td>\n",
       "      <td>117.948858</td>\n",
       "    </tr>\n",
       "    <tr>\n",
       "      <th>19</th>\n",
       "      <td>Remodel_Year</td>\n",
       "      <td>92.057483</td>\n",
       "    </tr>\n",
       "    <tr>\n",
       "      <th>69</th>\n",
       "      <td>Pool_Area</td>\n",
       "      <td>30.495444</td>\n",
       "    </tr>\n",
       "    <tr>\n",
       "      <th>68</th>\n",
       "      <td>Screen_Lobby_Area</td>\n",
       "      <td>29.129630</td>\n",
       "    </tr>\n",
       "    <tr>\n",
       "      <th>43</th>\n",
       "      <td>Second_Floor_Area</td>\n",
       "      <td>24.985077</td>\n",
       "    </tr>\n",
       "    <tr>\n",
       "      <th>42</th>\n",
       "      <td>First_Floor_Area</td>\n",
       "      <td>24.975858</td>\n",
       "    </tr>\n",
       "    <tr>\n",
       "      <th>45</th>\n",
       "      <td>Grade_Living_Area</td>\n",
       "      <td>23.889544</td>\n",
       "    </tr>\n",
       "    <tr>\n",
       "      <th>37</th>\n",
       "      <td>Total_Basement_Area</td>\n",
       "      <td>16.483902</td>\n",
       "    </tr>\n",
       "    <tr>\n",
       "      <th>3</th>\n",
       "      <td>Lot_Extent</td>\n",
       "      <td>12.998842</td>\n",
       "    </tr>\n",
       "    <tr>\n",
       "      <th>65</th>\n",
       "      <td>Open_Lobby_Area</td>\n",
       "      <td>10.780505</td>\n",
       "    </tr>\n",
       "    <tr>\n",
       "      <th>25</th>\n",
       "      <td>Brick_Veneer_Area</td>\n",
       "      <td>10.518434</td>\n",
       "    </tr>\n",
       "    <tr>\n",
       "      <th>33</th>\n",
       "      <td>BsmtFinSF1</td>\n",
       "      <td>10.008801</td>\n",
       "    </tr>\n",
       "    <tr>\n",
       "      <th>35</th>\n",
       "      <td>BsmtFinSF2</td>\n",
       "      <td>9.043616</td>\n",
       "    </tr>\n",
       "    <tr>\n",
       "      <th>66</th>\n",
       "      <td>Enclosed_Lobby_Area</td>\n",
       "      <td>7.180618</td>\n",
       "    </tr>\n",
       "    <tr>\n",
       "      <th>60</th>\n",
       "      <td>Garage_Area</td>\n",
       "      <td>0.491336</td>\n",
       "    </tr>\n",
       "    <tr>\n",
       "      <th>4</th>\n",
       "      <td>Lot_Size</td>\n",
       "      <td>0.446053</td>\n",
       "    </tr>\n",
       "    <tr>\n",
       "      <th>0</th>\n",
       "      <td>Id</td>\n",
       "      <td>-1.354050</td>\n",
       "    </tr>\n",
       "    <tr>\n",
       "      <th>70</th>\n",
       "      <td>Miscellaneous_Value</td>\n",
       "      <td>-1.476798</td>\n",
       "    </tr>\n",
       "    <tr>\n",
       "      <th>36</th>\n",
       "      <td>BsmtUnfSF</td>\n",
       "      <td>-2.568515</td>\n",
       "    </tr>\n",
       "    <tr>\n",
       "      <th>64</th>\n",
       "      <td>W_Deck_Area</td>\n",
       "      <td>-2.742260</td>\n",
       "    </tr>\n",
       "    <tr>\n",
       "      <th>15</th>\n",
       "      <td>House_Design</td>\n",
       "      <td>-2.949529</td>\n",
       "    </tr>\n",
       "    <tr>\n",
       "      <th>67</th>\n",
       "      <td>Three_Season_Lobby_Area</td>\n",
       "      <td>-2.990665</td>\n",
       "    </tr>\n",
       "    <tr>\n",
       "      <th>57</th>\n",
       "      <td>Garage_Built_Year</td>\n",
       "      <td>-7.282667</td>\n",
       "    </tr>\n",
       "    <tr>\n",
       "      <th>44</th>\n",
       "      <td>LowQualFinSF</td>\n",
       "      <td>-26.071391</td>\n",
       "    </tr>\n",
       "    <tr>\n",
       "      <th>1</th>\n",
       "      <td>Building_Class</td>\n",
       "      <td>-30.269447</td>\n",
       "    </tr>\n",
       "    <tr>\n",
       "      <th>32</th>\n",
       "      <td>BsmtFinType1</td>\n",
       "      <td>-45.287510</td>\n",
       "    </tr>\n",
       "    <tr>\n",
       "      <th>61</th>\n",
       "      <td>Garage_Quality</td>\n",
       "      <td>-59.741161</td>\n",
       "    </tr>\n",
       "    <tr>\n",
       "      <th>11</th>\n",
       "      <td>Neighborhood</td>\n",
       "      <td>-104.477032</td>\n",
       "    </tr>\n",
       "    <tr>\n",
       "      <th>9</th>\n",
       "      <td>Lot_Configuration</td>\n",
       "      <td>-148.231201</td>\n",
       "    </tr>\n",
       "    <tr>\n",
       "      <th>38</th>\n",
       "      <td>Heating_Type</td>\n",
       "      <td>-193.158033</td>\n",
       "    </tr>\n",
       "    <tr>\n",
       "      <th>41</th>\n",
       "      <td>Electrical_System</td>\n",
       "      <td>-197.435150</td>\n",
       "    </tr>\n",
       "    <tr>\n",
       "      <th>63</th>\n",
       "      <td>Pavedd_Drive</td>\n",
       "      <td>-240.631746</td>\n",
       "    </tr>\n",
       "    <tr>\n",
       "      <th>49</th>\n",
       "      <td>Half_Bathroom_Above_Grade</td>\n",
       "      <td>-298.328525</td>\n",
       "    </tr>\n",
       "    <tr>\n",
       "      <th>7</th>\n",
       "      <td>Land_Outline</td>\n",
       "      <td>-312.042622</td>\n",
       "    </tr>\n",
       "    <tr>\n",
       "      <th>56</th>\n",
       "      <td>Garage</td>\n",
       "      <td>-396.859704</td>\n",
       "    </tr>\n",
       "    <tr>\n",
       "      <th>72</th>\n",
       "      <td>Year_Sold</td>\n",
       "      <td>-435.147074</td>\n",
       "    </tr>\n",
       "    <tr>\n",
       "      <th>6</th>\n",
       "      <td>Property_Shape</td>\n",
       "      <td>-610.922586</td>\n",
       "    </tr>\n",
       "    <tr>\n",
       "      <th>58</th>\n",
       "      <td>Garage_Finish_Year</td>\n",
       "      <td>-827.033908</td>\n",
       "    </tr>\n",
       "    <tr>\n",
       "      <th>47</th>\n",
       "      <td>Underground_Half_Bathroom</td>\n",
       "      <td>-827.872905</td>\n",
       "    </tr>\n",
       "    <tr>\n",
       "      <th>22</th>\n",
       "      <td>Exterior1st</td>\n",
       "      <td>-859.891286</td>\n",
       "    </tr>\n",
       "    <tr>\n",
       "      <th>39</th>\n",
       "      <td>Heating_Quality</td>\n",
       "      <td>-1110.120512</td>\n",
       "    </tr>\n",
       "    <tr>\n",
       "      <th>14</th>\n",
       "      <td>House_Type</td>\n",
       "      <td>-1787.237802</td>\n",
       "    </tr>\n",
       "    <tr>\n",
       "      <th>31</th>\n",
       "      <td>Exposure_Level</td>\n",
       "      <td>-1871.051165</td>\n",
       "    </tr>\n",
       "    <tr>\n",
       "      <th>29</th>\n",
       "      <td>Basement_Height</td>\n",
       "      <td>-2040.397300</td>\n",
       "    </tr>\n",
       "    <tr>\n",
       "      <th>50</th>\n",
       "      <td>Bedroom_Above_Grade</td>\n",
       "      <td>-2070.577584</td>\n",
       "    </tr>\n",
       "    <tr>\n",
       "      <th>26</th>\n",
       "      <td>Exterior_Material</td>\n",
       "      <td>-4313.803373</td>\n",
       "    </tr>\n",
       "    <tr>\n",
       "      <th>52</th>\n",
       "      <td>Kitchen_Quality</td>\n",
       "      <td>-4758.027365</td>\n",
       "    </tr>\n",
       "    <tr>\n",
       "      <th>2</th>\n",
       "      <td>Zoning_Class</td>\n",
       "      <td>-5192.600436</td>\n",
       "    </tr>\n",
       "    <tr>\n",
       "      <th>51</th>\n",
       "      <td>Kitchen_Above_Grade</td>\n",
       "      <td>-14476.034056</td>\n",
       "    </tr>\n",
       "    <tr>\n",
       "      <th>8</th>\n",
       "      <td>Utility_Type</td>\n",
       "      <td>-19987.320686</td>\n",
       "    </tr>\n",
       "  </tbody>\n",
       "</table>\n",
       "</div>"
      ],
      "text/plain": [
       "                      Columns          coef\n",
       "5                   Road_Type  21654.335027\n",
       "16           Overall_Material   7566.886179\n",
       "59                Garage_Size   6925.514798\n",
       "17            House_Condition   4931.778296\n",
       "24          Brick_Veneer_Type   3521.355730\n",
       "55                 Fireplaces   3377.649801\n",
       "54            Functional_Rate   2561.549905\n",
       "46  Underground_Full_Bathroom   2373.979791\n",
       "74             Sale_Condition   2142.971142\n",
       "48  Full_Bathroom_Above_Grade   1964.212915\n",
       "28            Foundation_Type   1802.678803\n",
       "21               Roof_Quality   1626.087645\n",
       "10             Property_Slope   1276.445983\n",
       "30         Basement_Condition   1255.047007\n",
       "27         Exterior_Condition    853.927385\n",
       "62           Garage_Condition    828.802189\n",
       "34               BsmtFinType2    826.512729\n",
       "23                Exterior2nd    651.039358\n",
       "12                 Condition1    486.798553\n",
       "73                  Sale_Type    360.483596\n",
       "40           Air_Conditioning    315.640965\n",
       "18          Construction_Year    268.448433\n",
       "13                 Condition2    261.763727\n",
       "53          Rooms_Above_Grade    240.715600\n",
       "71                 Month_Sold    147.837967\n",
       "20                Roof_Design    117.948858\n",
       "19               Remodel_Year     92.057483\n",
       "69                  Pool_Area     30.495444\n",
       "68          Screen_Lobby_Area     29.129630\n",
       "43          Second_Floor_Area     24.985077\n",
       "42           First_Floor_Area     24.975858\n",
       "45          Grade_Living_Area     23.889544\n",
       "37        Total_Basement_Area     16.483902\n",
       "3                  Lot_Extent     12.998842\n",
       "65            Open_Lobby_Area     10.780505\n",
       "25          Brick_Veneer_Area     10.518434\n",
       "33                 BsmtFinSF1     10.008801\n",
       "35                 BsmtFinSF2      9.043616\n",
       "66        Enclosed_Lobby_Area      7.180618\n",
       "60                Garage_Area      0.491336\n",
       "4                    Lot_Size      0.446053\n",
       "0                          Id     -1.354050\n",
       "70        Miscellaneous_Value     -1.476798\n",
       "36                  BsmtUnfSF     -2.568515\n",
       "64                W_Deck_Area     -2.742260\n",
       "15               House_Design     -2.949529\n",
       "67    Three_Season_Lobby_Area     -2.990665\n",
       "57          Garage_Built_Year     -7.282667\n",
       "44               LowQualFinSF    -26.071391\n",
       "1              Building_Class    -30.269447\n",
       "32               BsmtFinType1    -45.287510\n",
       "61             Garage_Quality    -59.741161\n",
       "11               Neighborhood   -104.477032\n",
       "9           Lot_Configuration   -148.231201\n",
       "38               Heating_Type   -193.158033\n",
       "41          Electrical_System   -197.435150\n",
       "63               Pavedd_Drive   -240.631746\n",
       "49  Half_Bathroom_Above_Grade   -298.328525\n",
       "7                Land_Outline   -312.042622\n",
       "56                     Garage   -396.859704\n",
       "72                  Year_Sold   -435.147074\n",
       "6              Property_Shape   -610.922586\n",
       "58         Garage_Finish_Year   -827.033908\n",
       "47  Underground_Half_Bathroom   -827.872905\n",
       "22                Exterior1st   -859.891286\n",
       "39            Heating_Quality  -1110.120512\n",
       "14                 House_Type  -1787.237802\n",
       "31             Exposure_Level  -1871.051165\n",
       "29            Basement_Height  -2040.397300\n",
       "50        Bedroom_Above_Grade  -2070.577584\n",
       "26          Exterior_Material  -4313.803373\n",
       "52            Kitchen_Quality  -4758.027365\n",
       "2                Zoning_Class  -5192.600436\n",
       "51        Kitchen_Above_Grade -14476.034056\n",
       "8                Utility_Type -19987.320686"
      ]
     },
     "execution_count": 112,
     "metadata": {},
     "output_type": "execute_result"
    }
   ],
   "source": [
    "cols_coef.sort_values('coef',ascending=False)"
   ]
  },
  {
   "cell_type": "code",
   "execution_count": 113,
   "id": "8f832c1e",
   "metadata": {},
   "outputs": [],
   "source": [
    "##prediction on train on test"
   ]
  },
  {
   "cell_type": "code",
   "execution_count": 114,
   "id": "e9ad468a",
   "metadata": {},
   "outputs": [],
   "source": [
    "pred_train_pa=reg.predict(pa_train_x)\n",
    "pred_test_pa=reg.predict(pa_test_x)"
   ]
  },
  {
   "cell_type": "code",
   "execution_count": 115,
   "id": "7883b909",
   "metadata": {},
   "outputs": [],
   "source": [
    "# check the assumption on train data\n",
    "error_train_pa=pa_train_y-pred_train_pa\n",
    "error_test_pa=pa_test_y-pred_test_pa"
   ]
  },
  {
   "cell_type": "code",
   "execution_count": 116,
   "id": "0af79d28",
   "metadata": {},
   "outputs": [
    {
     "data": {
      "text/plain": [
       "1.367330902589942e-11"
      ]
     },
     "execution_count": 116,
     "metadata": {},
     "output_type": "execute_result"
    }
   ],
   "source": [
    "## is the mean of erro terms zero\n",
    "error_train_pa.mean()"
   ]
  },
  {
   "cell_type": "code",
   "execution_count": 117,
   "id": "717a19b0",
   "metadata": {},
   "outputs": [],
   "source": [
    "### lets say mean is around 75 can it be taken as zero=it can be"
   ]
  },
  {
   "cell_type": "code",
   "execution_count": 118,
   "id": "4a31ddfa",
   "metadata": {},
   "outputs": [
    {
     "data": {
      "text/plain": [
       "163743.85094339622"
      ]
     },
     "execution_count": 118,
     "metadata": {},
     "output_type": "execute_result"
    }
   ],
   "source": [
    "pa_train_y.mean()"
   ]
  },
  {
   "cell_type": "code",
   "execution_count": 119,
   "id": "4546dfd9",
   "metadata": {},
   "outputs": [
    {
     "data": {
      "text/plain": [
       "0.00045803246697750114"
      ]
     },
     "execution_count": 119,
     "metadata": {},
     "output_type": "execute_result"
    }
   ],
   "source": [
    "75/pa_train_y.mean()"
   ]
  },
  {
   "cell_type": "code",
   "execution_count": 120,
   "id": "9213304e",
   "metadata": {},
   "outputs": [
    {
     "data": {
      "text/plain": [
       "(array([  3.,   0.,   1.,  12.,  42., 250., 439., 232.,  65.,  16.]),\n",
       " array([-100104.22272076,  -84760.1468622 ,  -69416.07100365,\n",
       "         -54071.99514509,  -38727.91928653,  -23383.84342798,\n",
       "          -8039.76756942,    7304.30828914,   22648.38414769,\n",
       "          37992.46000625,   53336.53586481]),\n",
       " <BarContainer object of 10 artists>)"
      ]
     },
     "execution_count": 120,
     "metadata": {},
     "output_type": "execute_result"
    },
    {
     "data": {
      "image/png": "[encoded data removed]",
      "text/plain": [
       "<Figure size 432x288 with 1 Axes>"
      ]
     },
     "metadata": {
      "needs_background": "light"
     },
     "output_type": "display_data"
    }
   ],
   "source": [
    "# plot the histogram\n",
    "import matplotlib.pyplot as plt\n",
    "plt.hist(error_train_pa)"
   ]
  },
  {
   "cell_type": "code",
   "execution_count": 121,
   "id": "407db673",
   "metadata": {},
   "outputs": [
    {
     "data": {
      "text/plain": [
       "<seaborn.axisgrid.FacetGrid at 0x1a0ec60ee20>"
      ]
     },
     "execution_count": 121,
     "metadata": {},
     "output_type": "execute_result"
    },
    {
     "data": {
      "image/png": "[encoded data removed]",
      "text/plain": [
       "<Figure size 360x360 with 1 Axes>"
      ]
     },
     "metadata": {
      "needs_background": "light"
     },
     "output_type": "display_data"
    }
   ],
   "source": [
    "import seaborn as sns\n",
    "sns.displot(error_train_pa)"
   ]
  },
  {
   "cell_type": "code",
   "execution_count": 122,
   "id": "147dcf4f",
   "metadata": {},
   "outputs": [
    {
     "data": {
      "text/plain": [
       "Text(0.5, 1.0, 'scatter plot on error')"
      ]
     },
     "execution_count": 122,
     "metadata": {},
     "output_type": "execute_result"
    },
    {
     "data": {
      "image/png": "[encoded data removed]",
      "text/plain": [
       "<Figure size 432x288 with 1 Axes>"
      ]
     },
     "metadata": {
      "needs_background": "light"
     },
     "output_type": "display_data"
    }
   ],
   "source": [
    "plt.plot(error_train_pa,\"*\")\n",
    "plt.axhline(y=error_train_pa.mean(),color=\"red\")\n",
    "plt.axhline(y=100000,color=\"red\")\n",
    "plt.axhline(y=-100000,color=\"red\")\n",
    "plt.title(\"scatter plot on error\",size=15)"
   ]
  },
  {
   "cell_type": "code",
   "execution_count": 123,
   "id": "989c3f53",
   "metadata": {},
   "outputs": [],
   "source": [
    "pred_actual_pa = pd.DataFrame({\"Pred\" :pred_train_pa , \"Actual\" :pa_train_y})"
   ]
  },
  {
   "cell_type": "code",
   "execution_count": 124,
   "id": "52e3b040",
   "metadata": {},
   "outputs": [
    {
     "name": "stderr",
     "output_type": "stream",
     "text": [
      "C:\\Users\\HP\\anaconda3\\lib\\site-packages\\seaborn\\_decorators.py:36: FutureWarning: Pass the following variables as keyword args: x, y. From version 0.12, the only valid positional argument will be `data`, and passing other arguments without an explicit keyword will result in an error or misinterpretation.\n",
      "  warnings.warn(\n"
     ]
    },
    {
     "data": {
      "text/plain": [
       "<AxesSubplot:xlabel='Actual', ylabel='Pred'>"
      ]
     },
     "execution_count": 124,
     "metadata": {},
     "output_type": "execute_result"
    },
    {
     "data": {
      "image/png": "[encoded data removed]",
      "text/plain": [
       "<Figure size 432x288 with 1 Axes>"
      ]
     },
     "metadata": {
      "needs_background": "light"
     },
     "output_type": "display_data"
    }
   ],
   "source": [
    "sns.regplot(pred_actual_pa.Actual,pred_actual_pa.Pred)"
   ]
  },
  {
   "cell_type": "code",
   "execution_count": 93,
   "id": "784b5eb3",
   "metadata": {},
   "outputs": [],
   "source": [
    "## outilers would be removed on entired data"
   ]
  },
  {
   "cell_type": "code",
   "execution_count": 94,
   "id": "fd56d468",
   "metadata": {},
   "outputs": [
    {
     "data": {
      "text/plain": [
       "(1396, 76)"
      ]
     },
     "execution_count": 94,
     "metadata": {},
     "output_type": "execute_result"
    }
   ],
   "source": [
    "pa.shape"
   ]
  },
  {
   "cell_type": "code",
   "execution_count": 95,
   "id": "a820ffb4",
   "metadata": {},
   "outputs": [],
   "source": [
    "def remove_outliers(df, col, k=2):\n",
    "    mean= df[col].mean()\n",
    "    global df1\n",
    "    sd=df[col].std()\n",
    "    final_list=[x for x in df[col] if (x > mean-k*sd)]\n",
    "    final_list=[x for x in final_list if (x < mean + k*sd)]\n",
    "    df1=df.loc[df[col].isin(final_list)]; print(df1.shape)\n",
    "    print(\"Number of outliers removed-->\", df.shape[0]-df1.shape[0])"
   ]
  },
  {
   "cell_type": "code",
   "execution_count": 96,
   "id": "11c270ce",
   "metadata": {},
   "outputs": [
    {
     "name": "stdout",
     "output_type": "stream",
     "text": [
      "(1326, 76)\n",
      "Number of outliers removed--> 70\n"
     ]
    }
   ],
   "source": [
    "remove_outliers(pa,\"Sale_Price\",k=2)"
   ]
  },
  {
   "cell_type": "code",
   "execution_count": 97,
   "id": "25ad2a17",
   "metadata": {},
   "outputs": [
    {
     "data": {
      "text/plain": [
       "(1326, 76)"
      ]
     },
     "execution_count": 97,
     "metadata": {},
     "output_type": "execute_result"
    }
   ],
   "source": [
    "df1.shape"
   ]
  },
  {
   "cell_type": "code",
   "execution_count": 98,
   "id": "c367c805",
   "metadata": {},
   "outputs": [],
   "source": [
    "pa=df1"
   ]
  },
  {
   "cell_type": "code",
   "execution_count": 99,
   "id": "0860600b",
   "metadata": {},
   "outputs": [],
   "source": [
    "## run again from sampling step(tain test split)"
   ]
  },
  {
   "cell_type": "code",
   "execution_count": 125,
   "id": "c01b524f",
   "metadata": {},
   "outputs": [
    {
     "data": {
      "text/plain": [
       "(1326, 76)"
      ]
     },
     "execution_count": 125,
     "metadata": {},
     "output_type": "execute_result"
    }
   ],
   "source": [
    "pa.shape"
   ]
  },
  {
   "cell_type": "code",
   "execution_count": 126,
   "id": "436cec9a",
   "metadata": {},
   "outputs": [],
   "source": [
    "# find mse on test data"
   ]
  },
  {
   "cell_type": "code",
   "execution_count": 127,
   "id": "38381f1d",
   "metadata": {},
   "outputs": [],
   "source": [
    "import numpy as np"
   ]
  },
  {
   "cell_type": "code",
   "execution_count": 129,
   "id": "1759b806",
   "metadata": {},
   "outputs": [
    {
     "data": {
      "text/plain": [
       "1623164086.9419615"
      ]
     },
     "execution_count": 129,
     "metadata": {},
     "output_type": "execute_result"
    }
   ],
   "source": [
    "MSE_pa=np.mean(np.square(error_test_pa))\n",
    "MSE_pa"
   ]
  },
  {
   "cell_type": "code",
   "execution_count": 131,
   "id": "932823f7",
   "metadata": {},
   "outputs": [
    {
     "data": {
      "text/plain": [
       "40288.51060714409"
      ]
     },
     "execution_count": 131,
     "metadata": {},
     "output_type": "execute_result"
    }
   ],
   "source": [
    "RMSE_pa=np.sqrt(MSE_pa)\n",
    "RMSE_pa"
   ]
  },
  {
   "cell_type": "code",
   "execution_count": 133,
   "id": "00e0d201",
   "metadata": {},
   "outputs": [
    {
     "data": {
      "text/plain": [
       "16394.322236656568"
      ]
     },
     "execution_count": 133,
     "metadata": {},
     "output_type": "execute_result"
    }
   ],
   "source": [
    "MAE_pa=np.mean(np.abs(error_test_pa))\n",
    "MAE_pa"
   ]
  },
  {
   "cell_type": "code",
   "execution_count": 134,
   "id": "e84375af",
   "metadata": {},
   "outputs": [],
   "source": [
    "MAPE_pa=np.round(np.mean(np.abs(error_test_pa*100/pa_test_y)))\n",
    "## here the target variable based upon the condition on this system of th epropert price of the system"
   ]
  },
  {
   "cell_type": "code",
   "execution_count": 136,
   "id": "238ae800",
   "metadata": {},
   "outputs": [
    {
     "data": {
      "text/plain": [
       "11.0"
      ]
     },
     "execution_count": 136,
     "metadata": {},
     "output_type": "execute_result"
    }
   ],
   "source": [
    "MAPE_pa"
   ]
  },
  {
   "cell_type": "code",
   "execution_count": 138,
   "id": "eb1ccc4d",
   "metadata": {},
   "outputs": [
    {
     "data": {
      "text/plain": [
       "89.0"
      ]
     },
     "execution_count": 138,
     "metadata": {},
     "output_type": "execute_result"
    }
   ],
   "source": [
    "acc=100-MAPE_pa\n",
    "acc"
   ]
  },
  {
   "cell_type": "code",
   "execution_count": null,
   "id": "2051ea39",
   "metadata": {},
   "outputs": [],
   "source": [
    "##inbuilt formulaes\n"
   ]
  },
  {
   "cell_type": "code",
   "execution_count": 139,
   "id": "6335b966",
   "metadata": {},
   "outputs": [],
   "source": [
    "from sklearn.metrics import mean_absolute_error"
   ]
  },
  {
   "cell_type": "code",
   "execution_count": 141,
   "id": "a0933e76",
   "metadata": {},
   "outputs": [
    {
     "data": {
      "text/plain": [
       "16394.322236656564"
      ]
     },
     "execution_count": 141,
     "metadata": {},
     "output_type": "execute_result"
    }
   ],
   "source": [
    "mean_absolute_error(pa_test_y,pred_test_pa)"
   ]
  },
  {
   "cell_type": "code",
   "execution_count": 142,
   "id": "bb48d1d9",
   "metadata": {},
   "outputs": [],
   "source": [
    "from sklearn.metrics import mean_absolute_percentage_error"
   ]
  },
  {
   "cell_type": "code",
   "execution_count": 143,
   "id": "4e11709d",
   "metadata": {},
   "outputs": [
    {
     "data": {
      "text/plain": [
       "0.10729662883395823"
      ]
     },
     "execution_count": 143,
     "metadata": {},
     "output_type": "execute_result"
    }
   ],
   "source": [
    "mean_absolute_percentage_error(pa_test_y,pred_test_pa)"
   ]
  },
  {
   "cell_type": "code",
   "execution_count": 144,
   "id": "34c2b087",
   "metadata": {},
   "outputs": [
    {
     "data": {
      "text/plain": [
       "1623164086.941961"
      ]
     },
     "execution_count": 144,
     "metadata": {},
     "output_type": "execute_result"
    }
   ],
   "source": [
    "from sklearn.metrics import mean_squared_error\n",
    "mean_squared_error(pa_test_y,pred_test_pa)"
   ]
  },
  {
   "cell_type": "code",
   "execution_count": null,
   "id": "e697526e",
   "metadata": {},
   "outputs": [],
   "source": []
  }
 ],
 "metadata": {
  "kernelspec": {
   "display_name": "Python 3",
   "language": "python",
   "name": "python3"
  },
  "language_info": {
   "codemirror_mode": {
    "name": "ipython",
    "version": 3
   },
   "file_extension": ".py",
   "mimetype": "text/x-python",
   "name": "python",
   "nbconvert_exporter": "python",
   "pygments_lexer": "ipython3",
   "version": "3.8.8"
  }
 },
 "nbformat": 4,
 "nbformat_minor": 5
}
